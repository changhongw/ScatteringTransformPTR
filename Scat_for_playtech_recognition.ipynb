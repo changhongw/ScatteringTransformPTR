{
 "cells": [
  {
   "cell_type": "code",
   "execution_count": 2,
   "metadata": {},
   "outputs": [],
   "source": [
    "import time\n",
    "import os\n",
    "from tqdm import tqdm_notebook as tqdm\n",
    "import scipy.io, soundfile\n",
    "from fnmatch import fnmatch\n",
    "import librosa\n",
    "import pandas as pd\n",
    "import numpy as np\n",
    "import re, collections, requests\n",
    "import matplotlib.pyplot as pltb\n",
    "import warnings\n",
    "warnings.filterwarnings('ignore')"
   ]
  },
  {
   "cell_type": "markdown",
   "metadata": {},
   "source": [
    "# Download CBFdataset"
   ]
  },
  {
   "cell_type": "code",
   "execution_count": null,
   "metadata": {},
   "outputs": [],
   "source": [
    "ACCESS_TOKEN = \"replace this with your access token\"\n",
    "record_id = \"replace this with your record\"\n",
    "\n",
    "r = requests.get(f\"https://zenodo.org/api/records/5744336\", params={'access_token': ACCESS_TOKEN})\n",
    "download_urls = [f['links']['self'] for f in r.json()['files']]\n",
    "filenames = [f['key'] for f in r.json()['files']]"
   ]
  },
  {
   "cell_type": "code",
   "execution_count": null,
   "metadata": {},
   "outputs": [],
   "source": [
    "for filename, url in zip(filenames, download_urls):\n",
    "    print(\"Downloading:\", filename)\n",
    "    r = requests.get(url, params={'access_token': ACCESS_TOKEN})\n",
    "    with open(filename, 'wb') as f:\n",
    "        f.write(r.content)"
   ]
  },
  {
   "cell_type": "code",
   "execution_count": null,
   "metadata": {},
   "outputs": [],
   "source": [
    "# unzip dataset files\n",
    "from zipfile import ZipFile\n",
    "!mkdir CBFdataset\n",
    "with ZipFile('CBFdataset.zip', 'r') as zipObj:  \n",
    "    zipObj.extractall('CBFdataset/') \n",
    "!rm CBFdataset.zip"
   ]
  },
  {
   "cell_type": "code",
   "execution_count": 3,
   "metadata": {},
   "outputs": [
    {
     "name": "stdout",
     "output_type": "stream",
     "text": [
      "Number of audio files: 80\n",
      "Total duration of the dataset: 2.61 h.\n"
     ]
    }
   ],
   "source": [
    "# check wav files of the dataset\n",
    "base_dir = 'CBFdataset/'\n",
    "target = \"*.wav\"\n",
    "wav_files = []  \n",
    "for path, subdirs, files in os.walk(base_dir):\n",
    "    for name in files:\n",
    "        if fnmatch(name, target):\n",
    "            wav_files.append(os.path.join(path, name).split('/')[-1])  \n",
    "print('Number of audio files:', format(len(wav_files)))\n",
    "\n",
    "# save file names for convenient feature extraction by matlab\n",
    "with open('file_names.txt', 'w') as f:\n",
    "    for item in wav_files:\n",
    "        f.write(\"%s\\n\" % item)"
   ]
  },
  {
   "cell_type": "code",
   "execution_count": null,
   "metadata": {},
   "outputs": [],
   "source": [
    "# check duration of the dataset\n",
    "total_len = 0\n",
    "for k in range(len(wav_files)):\n",
    "    x, sr = soundfile.read(base_dir + wav_files[k])\n",
    "    total_len = total_len + x.shape[0]/sr\n",
    "\n",
    "print(\"Total duration of the dataset: %.2f h.\" % (total_len/3600))"
   ]
  },
  {
   "cell_type": "markdown",
   "metadata": {},
   "source": [
    "# Feature extraction\n",
    "launch matlab for feature extraction"
   ]
  },
  {
   "cell_type": "markdown",
   "metadata": {},
   "source": [
    "## F0 extraction"
   ]
  },
  {
   "cell_type": "code",
   "execution_count": 4,
   "metadata": {},
   "outputs": [],
   "source": [
    "frame_length = 2048; hop_length = 128\n",
    "f0 = {'file'+str(k):[] for k in range(len(wav_files))}\n",
    "\n",
    "t0 = time.time()\n",
    "for k in tqdm(range(len(wav_files))):\n",
    "    y, sr = soundfile.read(wav_files[k])\n",
    "    y = np.mean(y, 1)\n",
    "    f0_file, voiced_flag, voiced_probs = librosa.pyin(y, fmin=librosa.note_to_hz('C2'), fmax=librosa.note_to_hz('C8'), sr=sr,\n",
    "                                                     frame_length = frame_length, hop_length = hop_length)\n",
    "    f0['file'+str(k)] = f0_file\n",
    "\n",
    "from scipy.io import savemat\n",
    "savemat(\"feature_extract/F0_trajectory_default_C2C8_hop128.mat\", f0)\n",
    "print('F0 extraction time:%.2f hours.' % ((time.time() - t0)/3600))"
   ]
  },
  {
   "cell_type": "markdown",
   "metadata": {},
   "source": [
    "## AdaTS+AdaTRS feature extraction"
   ]
  },
  {
   "cell_type": "code",
   "execution_count": null,
   "metadata": {},
   "outputs": [],
   "source": [
    "!apt install octave\n",
    "!apt-get update "
   ]
  },
  {
   "cell_type": "code",
   "execution_count": 5,
   "metadata": {},
   "outputs": [],
   "source": [
    "# extract AdaTS+AdaTRS feature in matlab\n",
    "t0 = time.time()\n",
    "!octave -W feature_extract/AdaTS_AdaTRS_PMT_extraction.m\n",
    "print('Feature extraction time:%.2f hours.' % ((time.time() - t0)/3600))"
   ]
  },
  {
   "cell_type": "code",
   "execution_count": 6,
   "metadata": {},
   "outputs": [
    {
     "name": "stdout",
     "output_type": "stream",
     "text": [
      "Feature extraction time:5.90 hours.\n"
     ]
    }
   ],
   "source": [
    "# load extracted feature\n",
    "adapt_time = scipy.io.loadmat('feature_extract/AdaTS_AdaTRS_PMT_feature.mat')['fileFeatures_time'][0,:]\n",
    "adapt_timerate = scipy.io.loadmat('feature_extract/AdaTS_AdaTRS_PMT_feature.mat')['fileFeatures_timerate'][0,:]\n",
    "\n",
    "print(adapt_time.shape, adapt_timerate.shape)\n",
    "\n",
    "adapt = []\n",
    "for k in range(adapt_time.shape[0]):\n",
    "    adapt.append(np.vstack((adapt_time[k], adapt_timerate[k])))\n",
    "    \n",
    "adapt_time_dim = adapt_time[0].shape[0]\n",
    "del(adapt_time,adapt_timerate)\n",
    "print(adapt_time_dim, adapt[0].shape[0])"
   ]
  },
  {
   "cell_type": "markdown",
   "metadata": {},
   "source": [
    "## dJTFS feature extraction"
   ]
  },
  {
   "cell_type": "code",
   "execution_count": 8,
   "metadata": {},
   "outputs": [],
   "source": [
    "# extract dJTFS-avg feature in matlab\n",
    "t0 = time.time()\n",
    "!octave -W feature_extract/dTFS_avg_PET_extraction.m\n",
    "print('Feature extraction time:%.2f hours.' % ((time.time() - t0)/3600))"
   ]
  },
  {
   "cell_type": "code",
   "execution_count": 10,
   "metadata": {},
   "outputs": [],
   "source": [
    "# load extracted feature\n",
    "joint = scipy.io.loadmat('feature_extract/dJTFS_avg_PET_feature.mat')['fileFeatures'][0, :]"
   ]
  },
  {
   "cell_type": "markdown",
   "metadata": {},
   "source": [
    "## feature concatenation"
   ]
  },
  {
   "cell_type": "code",
   "execution_count": 11,
   "metadata": {},
   "outputs": [
    {
     "name": "stdout",
     "output_type": "stream",
     "text": [
      "(80,) (613, 355)\n"
     ]
    }
   ],
   "source": [
    "# joint context\n",
    "context = 2\n",
    "\n",
    "joint_contexted = [None] * len(joint)\n",
    "joint_contexted = np.array(joint_contexted)\n",
    "for k in range(len(joint)):\n",
    "#     duplicate adapt feature to have the same number of frames\n",
    "    adapt[k] = np.repeat(adapt[k], 2, axis=1)\n",
    "    adapt[k] = adapt[k][:,:joint[k].shape[1]]\n",
    "    joint_contexted[k] = np.vstack((joint[k], joint[k]))\n",
    "    for m in range(context,joint[k].shape[1]-context):  # mean and std of 5 frames to take account context information for PETs\n",
    "        joint_contexted[k][0:joint[k].shape[0],m] = np.mean(joint[k][:,m-context:m+context+1], axis=1)\n",
    "        joint_contexted[k][joint[k].shape[0]:, m] = np.std(joint[k][:,m-context:m+context+1], axis=1)\n",
    "    joint_contexted[k] = np.vstack((adapt[k], joint_contexted[k]))\n",
    "\n",
    "feature = joint_contexted\n",
    "del(adapt, joint, joint_contexted)\n",
    "print(feature.shape, feature[21].shape)"
   ]
  },
  {
   "cell_type": "markdown",
   "metadata": {},
   "source": [
    "## Load annotations"
   ]
  },
  {
   "cell_type": "code",
   "execution_count": 12,
   "metadata": {},
   "outputs": [],
   "source": [
    "# prepare annotation from .csvs\n",
    "tech_name = np.array(['Tremolo', 'Acciacatura', 'Glissando', 'Trill', 'FT', 'Vibrato', 'Portamento'])\n",
    "anno_files = [None]\n",
    "\n",
    "for k in range(len(wav_files)):\n",
    "    if wav_files[k].split('/')[1] == 'Iso':\n",
    "        anno_files.append(wav_files[k].replace('.wav', '.csv'))\n",
    "    elif wav_files[k].split('/')[1] == 'Piece': # 'Piece'\n",
    "        for m in range(len(tech_name)):\n",
    "            if os.path.exists(base_dir + wav_files[k][:-4]+ '_tech_' + tech_name[m] + '.csv'):\n",
    "                anno_files.append(wav_files[k][:-4]+ '_tech_' + tech_name[m] + '.csv')\n",
    "                \n",
    "anno_files = anno_files[1:]"
   ]
  },
  {
   "cell_type": "code",
   "execution_count": 13,
   "metadata": {},
   "outputs": [],
   "source": [
    "feature_conca = np.zeros((feature[0].shape[0],1))\n",
    "file_id = 0\n",
    "player_id = 0\n",
    "\n",
    "for k in range(len(feature)):\n",
    "    # connect all features\n",
    "    feature_conca = np.hstack((feature_conca, feature[k]))\n",
    "    # gte file ID\n",
    "    file_id = np.hstack((file_id, np.ones((feature[k].shape[1]), dtype=int) * k))\n",
    "    # get player ID\n",
    "    if wav_files[k].split('/')[0][-1] == '0':\n",
    "        player_id = np.hstack((player_id, np.ones((feature[k].shape[1]), dtype=int) * 10)) \n",
    "    else:\n",
    "        player_id = np.hstack((player_id, np.ones((feature[k].shape[1]), dtype=int) * int(wav_files[k].split('/')[0][-1]))) \n",
    "        \n",
    "player_id = player_id[1:]\n",
    "file_id = file_id[1:]\n",
    "feature_conca = np.transpose(feature_conca)\n",
    "feature_conca = feature_conca[1:]"
   ]
  },
  {
   "cell_type": "code",
   "execution_count": 14,
   "metadata": {},
   "outputs": [
    {
     "name": "stdout",
     "output_type": "stream",
     "text": [
      "frame size: 92ms\n"
     ]
    }
   ],
   "source": [
    "# scattering params\n",
    "sr = 44100\n",
    "T = 2**14  # PMT T=15, PET T=14 => PMT duplicated\n",
    "oversampling = 2\n",
    "hop_sample = T/(2**oversampling)\n",
    "print('frame size: %sms' % (int(hop_sample/44100*1000)))"
   ]
  },
  {
   "cell_type": "code",
   "execution_count": 15,
   "metadata": {},
   "outputs": [],
   "source": [
    "import re\n",
    "label_id = {k:[None] for k in range(len(feature))}\n",
    "\n",
    "# get label ID\n",
    "for k in range(len(feature)):\n",
    "    label_id[k] = np.zeros((len(tech_name), feature[k].shape[1]),dtype=int)\n",
    "    if wav_files[k].split('/')[1] == 'Iso':\n",
    "        anno_files = wav_files[k].replace('.wav', '.csv')\n",
    "        file_anno = pd.read_csv(base_dir + anno_files)\n",
    "        file_onoff = np.hstack((float(list(file_anno)[0]), file_anno[list(file_anno)[0]]))\n",
    "        label_pos = np.where(tech_name == re.search('Iso_(.*).csv', anno_files).group(1))[0] + 1\n",
    "        for n in range(len(file_onoff)//2):\n",
    "            start_idx = int(file_onoff[2*n] * sr / hop_sample)  # use PET's hop_sample,alreay considered the feature duplication\n",
    "            end_idx = int(file_onoff[2*n+1] * sr / hop_sample)\n",
    "            if label_pos:\n",
    "                label_id[k][label_pos-1, start_idx:end_idx] = np.ones((end_idx-start_idx), dtype=int) * (label_pos) # label position in tech_name[m] array\n",
    "    elif wav_files[k].split('/')[1] == 'Piece': # 'Piece'\n",
    "        for m in range(len(tech_name)):\n",
    "            if os.path.exists(base_dir + wav_files[k][:-4]+ '_tech_' + tech_name[m] + '.csv'):\n",
    "                anno_files = (wav_files[k][:-4]+ '_tech_' + tech_name[m] + '.csv')\n",
    "                file_anno = pd.read_csv(base_dir + anno_files)\n",
    "                file_onoff = np.hstack((float(list(file_anno)[0]), file_anno[list(file_anno)[0]]))\n",
    "                for n in range(len(file_onoff)//2):\n",
    "                    start_idx = int(file_onoff[2*n] * sr / hop_sample)\n",
    "                    end_idx = int(file_onoff[2*n+1] * sr / hop_sample)\n",
    "                    label_id[k][m, start_idx:end_idx] = np.ones((end_idx-start_idx), dtype=int) * (m+1)"
   ]
  },
  {
   "cell_type": "code",
   "execution_count": 16,
   "metadata": {},
   "outputs": [],
   "source": [
    "# use single-labeled part only\n",
    "label_all = 0\n",
    "import collections\n",
    "for k in range(len(label_id)):\n",
    "    for m in range(label_id[k].shape[1]):  # no. time frame\n",
    "        if collections.Counter(label_id[k][:,m])[0] < 6:   # only one have label (counter=6)\n",
    "            label_id[k][:,m] = np.ones((len(tech_name)),dtype=int) * 100\n",
    "    label_all = np.hstack((label_all, np.sum(label_id[k],axis=0)))\n",
    "    \n",
    "label_id = label_all[1:]\n",
    "del(label_all)"
   ]
  },
  {
   "cell_type": "code",
   "execution_count": 17,
   "metadata": {},
   "outputs": [],
   "source": [
    "player_id = np.delete(player_id, np.where(label_id==700), 0)\n",
    "feature_conca = np.delete(feature_conca, np.where(label_id==700), 0)\n",
    "file_id = np.delete(file_id, np.where(label_id==700), 0)\n",
    "label_id = np.delete(label_id, np.where(label_id==700), 0)"
   ]
  },
  {
   "cell_type": "code",
   "execution_count": 18,
   "metadata": {},
   "outputs": [
    {
     "name": "stdout",
     "output_type": "stream",
     "text": [
      "(98062,) (98062, 613) (98062,) (98062,)\n"
     ]
    }
   ],
   "source": [
    "print(label_id.shape, feature_conca.shape, player_id.shape, file_id.shape)"
   ]
  },
  {
   "cell_type": "code",
   "execution_count": 19,
   "metadata": {},
   "outputs": [
    {
     "data": {
      "text/plain": [
       "Counter({0: 68569,\n",
       "         4: 9625,\n",
       "         6: 6508,\n",
       "         3: 3055,\n",
       "         2: 1113,\n",
       "         5: 4237,\n",
       "         7: 3464,\n",
       "         1: 1491})"
      ]
     },
     "execution_count": 19,
     "metadata": {},
     "output_type": "execute_result"
    }
   ],
   "source": [
    "import collections\n",
    "collections.Counter(label_id)"
   ]
  },
  {
   "cell_type": "markdown",
   "metadata": {},
   "source": [
    "# Classification\n",
    "In the recognition process, the <a href=\"https://zenodo.org/record/3776864\" title=\"CBFdataset\">CBFdataset</a> is split into training and test sets according to an 8:2 ratio by performers (performers are randomly initialised).\n",
    "We conduct 5 splits in a circular way, with no performer overlap between the test sets across splits and between the training-test sets in each split.\n",
    "Within each split, we run a 3-fold cross-validation, sampling on the training dataset in a way that ensures each fold includes approximately the same ratio of positive and negative class instances for a given playing technique.\n",
    "This is to avoid the cases that there is no instance or there are too few instances of a given playing technique class in the validation set if we further split the training set based on performer identity. "
   ]
  },
  {
   "cell_type": "code",
   "execution_count": 20,
   "metadata": {},
   "outputs": [],
   "source": [
    "# for classification\n",
    "from sklearn.impute import SimpleImputer\n",
    "from sklearn.preprocessing import StandardScaler\n",
    "from sklearn.model_selection import GridSearchCV\n",
    "from sklearn.svm import SVC   # from thundersvm import SVC => use GPU for SVM\n",
    "from sklearn.metrics import classification_report\n",
    "from sklearn.metrics import confusion_matrix"
   ]
  },
  {
   "cell_type": "code",
   "execution_count": 21,
   "metadata": {},
   "outputs": [],
   "source": [
    "# classifier-SVM settings\n",
    "kernel = 'rbf'; gpu_id = 2\n",
    "# param_grid = {'C': [10], 'gamma': [.0001]}   # param_grid for toy experiment\n",
    "param_grid = {'C': [256, 128, 64, 32, 16, 8], 'gamma': [2**(-12),2**(-11),2**(-10),2**(-9),2**(-8),2**(-7)]} # para_grid used\n",
    "scoring = 'f1_macro'; cv = 3"
   ]
  },
  {
   "cell_type": "code",
   "execution_count": 22,
   "metadata": {},
   "outputs": [],
   "source": [
    "# data split according to players + cross validation\n",
    "torch.manual_seed(42)\n",
    "player_split = torch.randperm(len(np.unique(player_id))) + 1\n",
    "player_split = player_split.numpy()\n",
    "\n",
    "# trainSplit testSplit player\n",
    "trainSplit = {k:[] for k in range(5)}; testSplit = {k:[] for k in range(5)}\n",
    "\n",
    "trainSplit[0] = player_split[0:int(player_split.shape[0]*.8)]    # seg idx for trainSplit\n",
    "testSplit[0] = player_split[int(player_split.shape[0]*.8):player_split.shape[0]]   # seg idx for testSplit\n",
    "\n",
    "trainSplit[1] = player_split[2:10]    # seg idx for trainSplit\n",
    "testSplit[1] = player_split[0:2]   # seg idx for testSplit\n",
    "\n",
    "trainSplit[2] = np.hstack((player_split[4:10],player_split[0:2]))   # seg idx for trainSplit\n",
    "testSplit[2] = player_split[2:4]   # seg idx for testSplit\n",
    "\n",
    "trainSplit[3] = np.hstack((player_split[6:10],player_split[0:4]))  # seg idx for trainSplit\n",
    "testSplit[3] = player_split[4:6]   # seg idx for testSplit\n",
    "\n",
    "trainSplit[4] = np.hstack((player_split[8:10],player_split[0:6]))   # seg idx for trainSplit\n",
    "testSplit[4] = player_split[6:8]   # seg idx for testSplit"
   ]
  },
  {
   "cell_type": "code",
   "execution_count": 23,
   "metadata": {},
   "outputs": [],
   "source": [
    "# record PRF and confusion obtained at each split\n",
    "PRF = {split:np.zeros((len(tech_name)+1,3)) for split in range(5)} # including \"other\" class which is 0\n",
    "confusion = {split:np.zeros((len(tech_name)+1, len(tech_name)+1)) for split in range(5)} "
   ]
  },
  {
   "cell_type": "markdown",
   "metadata": {},
   "source": [
    "## 5 splits"
   ]
  },
  {
   "cell_type": "code",
   "execution_count": 24,
   "metadata": {
    "scrolled": false
   },
   "outputs": [
    {
     "name": "stdout",
     "output_type": "stream",
     "text": [
      "(74490, 613) (23572, 613)\n",
      "Result of split 0 :\n",
      "              precision    recall  f1-score   support\n",
      "\n",
      "           0       0.95      0.97      0.96     17094\n",
      "           1       0.59      0.37      0.45       221\n",
      "           2       0.90      0.69      0.78       223\n",
      "           3       0.94      0.91      0.93       671\n",
      "           4       0.98      0.95      0.96      3151\n",
      "           5       0.93      0.88      0.90       412\n",
      "           6       0.78      0.65      0.71      1015\n",
      "           7       0.82      0.75      0.78       785\n",
      "\n",
      "    accuracy                           0.94     23572\n",
      "   macro avg       0.86      0.77      0.81     23572\n",
      "weighted avg       0.94      0.94      0.94     23572\n",
      "\n",
      "[[16657    16    18    36    73    25   138   131]\n",
      " [  104    82     0     0     0     0    35     0]\n",
      " [   69     0   154     0     0     0     0     0]\n",
      " [   58     0     0   613     0     0     0     0]\n",
      " [  129     0     0     0  3004     1    17     0]\n",
      " [   50     0     0     0     0   362     0     0]\n",
      " [  312    42     0     0     0     0   660     1]\n",
      " [  195     0     0     0     0     1     0   589]]\n",
      "(82847, 613) (15215, 613)\n",
      "Result of split 1 :\n",
      "              precision    recall  f1-score   support\n",
      "\n",
      "           0       0.92      0.96      0.94     10564\n",
      "           1       0.26      0.14      0.19        83\n",
      "           2       0.65      0.72      0.69       236\n",
      "           3       0.93      0.71      0.81       520\n",
      "           4       0.96      0.91      0.93      1556\n",
      "           5       0.91      0.86      0.89       622\n",
      "           6       0.86      0.75      0.80      1188\n",
      "           7       0.72      0.62      0.67       446\n",
      "\n",
      "    accuracy                           0.91     15215\n",
      "   macro avg       0.78      0.71      0.74     15215\n",
      "weighted avg       0.91      0.91      0.91     15215\n",
      "\n",
      "[[10168    17    90    27    44    49    70    99]\n",
      " [   15    12     0     0     0     0    56     0]\n",
      " [   66     0   170     0     0     0     0     0]\n",
      " [  149     0     0   370     0     1     0     0]\n",
      " [  125     0     0     0  1409     0    20     2]\n",
      " [   85     0     0     1     0   536     0     0]\n",
      " [  270    17     0     0    10     0   886     5]\n",
      " [  167     0     0     0     0     3     0   276]]\n",
      "(80105, 613) (17957, 613)\n",
      "Result of split 2 :\n",
      "              precision    recall  f1-score   support\n",
      "\n",
      "           0       0.91      0.97      0.94     12231\n",
      "           1       0.68      0.29      0.40       281\n",
      "           2       0.90      0.66      0.76       242\n",
      "           3       0.91      0.84      0.87       521\n",
      "           4       0.94      0.93      0.94      1404\n",
      "           5       0.95      0.83      0.89      1096\n",
      "           6       0.80      0.78      0.79      1487\n",
      "           7       0.90      0.56      0.69       695\n",
      "\n",
      "    accuracy                           0.91     17957\n",
      "   macro avg       0.87      0.73      0.79     17957\n",
      "weighted avg       0.90      0.91      0.90     17957\n",
      "\n",
      "[[11831    24    17    33    58    46   181    41]\n",
      " [  102    81     0     0     1     2    94     1]\n",
      " [   82     0   160     0     0     0     0     0]\n",
      " [   85     0     0   436     0     0     0     0]\n",
      " [   76     0     0     0  1311     0    17     0]\n",
      " [  159     0     0     7    15   911     2     2]\n",
      " [  295    14     0     0    11     0  1166     1]\n",
      " [  303     0     0     2     0     2     1   387]]\n",
      "(76530, 613) (21532, 613)\n",
      "Result of split 3 :\n",
      "              precision    recall  f1-score   support\n",
      "\n",
      "           0       0.93      0.96      0.95     14627\n",
      "           1       0.55      0.46      0.50       297\n",
      "           2       0.84      0.64      0.73       211\n",
      "           3       0.90      0.89      0.89       841\n",
      "           4       0.96      0.91      0.94      2083\n",
      "           5       0.94      0.77      0.85      1153\n",
      "           6       0.88      0.84      0.86      1521\n",
      "           7       0.80      0.71      0.75       799\n",
      "\n",
      "    accuracy                           0.92     21532\n",
      "   macro avg       0.85      0.77      0.81     21532\n",
      "weighted avg       0.92      0.92      0.92     21532\n",
      "\n",
      "[[14109    64    25    77    54    45   110   143]\n",
      " [  103   136     0     0     0     0    57     1]\n",
      " [   75     0   136     0     0     0     0     0]\n",
      " [   91     0     0   749     1     0     0     0]\n",
      " [  184     0     0     0  1893     1     5     0]\n",
      " [  251     0     0     7     7   888     0     0]\n",
      " [  193    46     0     0     8     0  1272     2]\n",
      " [  220     0     0     0     1     7     2   569]]\n",
      "(78276, 613) (19786, 613)\n",
      "Result of split 4 :\n",
      "              precision    recall  f1-score   support\n",
      "\n",
      "           0       0.93      0.97      0.95     14053\n",
      "           1       0.87      0.56      0.68       609\n",
      "           2       0.70      0.66      0.68       201\n",
      "           3       0.88      0.88      0.88       502\n",
      "           4       0.94      0.96      0.95      1431\n",
      "           5       0.94      0.82      0.87       954\n",
      "           6       0.88      0.82      0.85      1297\n",
      "           7       0.86      0.75      0.80       739\n",
      "\n",
      "    accuracy                           0.92     19786\n",
      "   macro avg       0.88      0.80      0.83     19786\n",
      "weighted avg       0.92      0.92      0.92     19786\n",
      "\n",
      "[[13609    35    56    55    46    49   118    85]\n",
      " [  241   341     0     0     0     0    27     0]\n",
      " [   68     0   132     1     0     0     0     0]\n",
      " [   62     0     0   440     0     0     0     0]\n",
      " [   55     0     0     0  1374     1     0     1]\n",
      " [  138     0     0     2    30   780     0     4]\n",
      " [  203    15     0     0    13     1  1065     0]\n",
      " [  182     0     0     0     0     1     1   555]]\n"
     ]
    }
   ],
   "source": [
    "# classification for each split\n",
    "t0 = time.time()\n",
    "for split in tqdm(range(5)):\n",
    "\n",
    "    subset = np.ones((len(player_id)), dtype=int) * 100\n",
    "\n",
    "    for k in range(len(player_id)):\n",
    "        if player_id[k] in trainSplit[split]:\n",
    "            subset[k] = 0\n",
    "        else: # test\n",
    "            subset[k] = 1\n",
    "\n",
    "    feature_tr, label_tr = feature_conca[subset == 0], label_id[subset == 0]\n",
    "    feature_te, label_te = feature_conca[subset == 1], label_id[subset == 1]\n",
    "\n",
    "    #########################  imputation  ###############################\n",
    "    imp = SimpleImputer(missing_values=np.nan, strategy='mean')\n",
    "    feature_tr = imp.fit_transform(feature_tr)\n",
    "    feature_te = imp.transform(feature_te)\n",
    "\n",
    "    #########################  normalisation  ###############################\n",
    "    stdscaler = StandardScaler()\n",
    "    feature_tr = stdscaler.fit_transform(feature_tr)\n",
    "    feature_te = stdscaler.transform(feature_te)\n",
    "    print(feature_tr.shape, feature_te.shape)\n",
    "\n",
    "    #########################  classification  ###############################\n",
    "    clf =  GridSearchCV(SVC(kernel=kernel, gpu_id=gpu_id), param_grid=param_grid, cv=cv, scoring=scoring)\n",
    "    clf = clf.fit(feature_tr, label_tr)\n",
    "    label_pred = clf.predict(feature_te)\n",
    "    print('Result of split %d :' % split)\n",
    "    print(classification_report(label_te, label_pred))\n",
    "    print(confusion_matrix(label_te, label_pred))\n",
    "    \n",
    "    #########################  record result of each split  ###############################\n",
    "    # extract P,R,F values from classification_report\n",
    "    lineSep = 54 ; dist = 10; Pos_firstNum = classification_report(label_te, label_pred).find('\\n') + 21 \n",
    "    for k in range(len(tech_name)+1):\n",
    "        PRF[split][k,:] = np.array([\n",
    "        float(classification_report(label_te, label_pred)[Pos_firstNum+lineSep*k:Pos_firstNum+4+lineSep*k]),\\\n",
    "        float(classification_report(label_te, label_pred)[Pos_firstNum+dist*1+lineSep*k:Pos_firstNum+4+dist*1+lineSep*k]),\\\n",
    "        float(classification_report(label_te, label_pred)[Pos_firstNum+dist*2+lineSep*k:Pos_firstNum+4+dist*2+lineSep*k])])\n",
    "    confusion[split] = confusion_matrix(label_te, label_pred)"
   ]
  },
  {
   "cell_type": "code",
   "execution_count": 25,
   "metadata": {},
   "outputs": [
    {
     "name": "stdout",
     "output_type": "stream",
     "text": [
      "Classifcation takes 3.99 hours.\n"
     ]
    }
   ],
   "source": [
    "print('Classifcation takes %.2f hours.' %((time.time() - t0)/3600))"
   ]
  },
  {
   "cell_type": "code",
   "execution_count": 26,
   "metadata": {},
   "outputs": [],
   "source": [
    "np.savez('CBFdataset_PRF_confusion.npz', PRF, confusion)"
   ]
  },
  {
   "cell_type": "markdown",
   "metadata": {},
   "source": [
    "## average"
   ]
  },
  {
   "cell_type": "code",
   "execution_count": 27,
   "metadata": {},
   "outputs": [
    {
     "name": "stdout",
     "output_type": "stream",
     "text": [
      "F-measure for each type of playing technique: \n",
      "[0.948 0.444 0.728 0.876 0.944 0.88  0.802 0.738]\n",
      "Marco F-measure: 0.795\n"
     ]
    }
   ],
   "source": [
    "PRF_aver = np.mean(np.array([PRF[k] for k in range(5)]), 0)\n",
    "print('F-measure for each type of playing technique: ')\n",
    "print((PRF_aver[:,2]))\n",
    "print('Marco F-measure: %.3f'%np.mean(PRF_aver[:,2]))"
   ]
  },
  {
   "cell_type": "code",
   "execution_count": 28,
   "metadata": {},
   "outputs": [
    {
     "name": "stdout",
     "output_type": "stream",
     "text": [
      "Confusion matrix on the CBFdataset:\n",
      "[[66374   156   206   228   275   214   617   499]\n",
      " [  565   652     0     0     1     2   269     2]\n",
      " [  360     0   752     1     0     0     0     0]\n",
      " [  445     0     0  2608     1     1     0     0]\n",
      " [  569     0     0     0  8991     3    59     3]\n",
      " [  683     0     0    17    52  3477     2     6]\n",
      " [ 1273   134     0     0    42     1  5049     9]\n",
      " [ 1067     0     0     2     1    14     4  2376]]\n"
     ]
    }
   ],
   "source": [
    "confusion_sum = np.sum(np.array([confusion[k] for k in range(5)]), 0)\n",
    "print('Confusion matrix on the CBFdataset:')\n",
    "print(confusion_sum)"
   ]
  },
  {
   "cell_type": "markdown",
   "metadata": {},
   "source": [
    "## confusion matrix"
   ]
  },
  {
   "cell_type": "code",
   "execution_count": 29,
   "metadata": {},
   "outputs": [],
   "source": [
    "A = confusion_sum\n",
    "B = np.zeros((confusion_sum.shape[0]+1, confusion_sum.shape[0]+1), dtype=int)\n",
    "B[:-1, :-1] = A\n",
    "B[-1, :] = B [0, :]; B[:, -1] = B [:, 0]\n",
    "B = B[1:, 1:]\n",
    "confusion = B\n",
    "\n",
    "tech_name = ['tremolo', 'acciaccatura', 'glissando', 'trill', 'flutter-tongue', 'vibrato', 'portamento']\n",
    "tech_name.append('other')\n",
    "tech_name = np.array(tech_name)"
   ]
  },
  {
   "cell_type": "code",
   "execution_count": 30,
   "metadata": {},
   "outputs": [],
   "source": [
    "norm_confusion = confusion.T / confusion.astype(np.float).sum(axis=1)\n",
    "norm_confusion = norm_confusion.T"
   ]
  },
  {
   "cell_type": "code",
   "execution_count": 31,
   "metadata": {},
   "outputs": [
    {
     "data": {
      "image/png": "[encoded data removed]",
      "text/plain": [
       "<Figure size 1152x432 with 4 Axes>"
      ]
     },
     "metadata": {},
     "output_type": "display_data"
    }
   ],
   "source": [
    "################################# without adapt duplicate & hopsample/2 because of multiplier in joint cal ####################\n",
    "# use seaborn plotting defaults\n",
    "import seaborn as sns; sns.set()\n",
    "from matplotlib import rcParams\n",
    "\n",
    "plt.figure(figsize=(16,6))\n",
    "plt.subplot(121)\n",
    "sns.heatmap(confusion, cmap = \"Blues\", square=True, annot=True, fmt=\"d\",\n",
    "            xticklabels=tech_name, yticklabels=tech_name)\n",
    "plt.xticks([0,1,2,3,4,5,6,7], tech_name, rotation=60, fontsize=11.5); plt.yticks(fontsize=11.5)\n",
    "plt.ylabel('True label', fontsize=12); plt.xlabel('Predicted label', fontsize=12)\n",
    "plt.ylim([8,0])\n",
    "plt.title('(a) Confusion', fontsize=13)\n",
    "rcParams['axes.titlepad'] = 15\n",
    "\n",
    "plt.subplot(122)\n",
    "norm_confusion = np.round(norm_confusion,2)\n",
    "sns.heatmap(norm_confusion, cmap = \"Blues\", square=True, annot=True,\n",
    "            xticklabels=tech_name, yticklabels=tech_name) # cbar=False,\n",
    "plt.xticks([0,1,2,3,4,5,6,7], tech_name, rotation=60, fontsize=11.5); plt.yticks(fontsize=11.5)\n",
    "plt.ylabel('True label', fontsize=12); plt.xlabel('Predicted label', fontsize=12)\n",
    "plt.ylim([8,0])\n",
    "plt.title('(b) Normalised confusion', fontsize=13)\n",
    "rcParams['axes.titlepad'] = 15\n",
    "\n",
    "plt.tight_layout()"
   ]
  },
  {
   "cell_type": "code",
   "execution_count": null,
   "metadata": {},
   "outputs": [],
   "source": []
  }
 ],
 "metadata": {
  "kernelspec": {
   "display_name": "Python 3 (ipykernel)",
   "language": "python",
   "name": "python3"
  },
  "language_info": {
   "codemirror_mode": {
    "name": "ipython",
    "version": 3
   },
   "file_extension": ".py",
   "mimetype": "text/x-python",
   "name": "python",
   "nbconvert_exporter": "python",
   "pygments_lexer": "ipython3",
   "version": "3.8.5"
  },
  "toc": {
   "base_numbering": 1,
   "nav_menu": {},
   "number_sections": true,
   "sideBar": true,
   "skip_h1_title": false,
   "title_cell": "Table of Contents",
   "title_sidebar": "Contents",
   "toc_cell": false,
   "toc_position": {
    "height": "calc(100% - 180px)",
    "left": "10px",
    "top": "150px",
    "width": "190.625px"
   },
   "toc_section_display": true,
   "toc_window_display": true
  }
 },
 "nbformat": 4,
 "nbformat_minor": 2
}
